{
 "cells": [
  {
   "cell_type": "code",
   "execution_count": 1,
   "id": "dce168d1-1f4a-4991-b641-2d7402dbee08",
   "metadata": {},
   "outputs": [
    {
     "name": "stdout",
     "output_type": "stream",
     "text": [
      "开始解压...\n",
      "解压结束。\n"
     ]
    }
   ],
   "source": [
    "import zipfile\n",
    "import os\n",
    "zip_path='./Datasets.zip'\n",
    "# 文件存储路径\n",
    "save_path = './'\n",
    "# 读取压缩文件\n",
    "file=zipfile.ZipFile(zip_path)\n",
    "# 解压文件\n",
    "print('开始解压...')\n",
    "file.extractall(save_path)\n",
    "print('解压结束。')\n",
    "# 关闭文件流\n",
    "file.close()"
   ]
  }
 ],
 "metadata": {
  "kernelspec": {
   "display_name": "Python 3 (ipykernel)",
   "language": "python",
   "name": "python3"
  },
  "language_info": {
   "codemirror_mode": {
    "name": "ipython",
    "version": 3
   },
   "file_extension": ".py",
   "mimetype": "text/x-python",
   "name": "python",
   "nbconvert_exporter": "python",
   "pygments_lexer": "ipython3",
   "version": "3.8.10"
  }
 },
 "nbformat": 4,
 "nbformat_minor": 5
}
